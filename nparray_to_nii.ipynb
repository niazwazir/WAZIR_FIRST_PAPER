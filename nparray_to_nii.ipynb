{
  "nbformat": 4,
  "nbformat_minor": 0,
  "metadata": {
    "colab": {
      "name": "nparray_to_nii.ipynb",
      "provenance": [],
      "collapsed_sections": []
    },
    "kernelspec": {
      "name": "python3",
      "display_name": "Python 3"
    }
  },
  "cells": [
    {
      "cell_type": "markdown",
      "metadata": {
        "id": "OOgYsmA6pOCd",
        "colab_type": "text"
      },
      "source": [
        "Following code will convert numpy array to medical file format."
      ]
    },
    {
      "cell_type": "code",
      "metadata": {
        "id": "_IU0adbflSR9",
        "colab_type": "code",
        "colab": {
          "base_uri": "https://localhost:8080/",
          "height": 51
        },
        "outputId": "969950c9-6c55-427a-bf3f-1ba906362ab5"
      },
      "source": [
        "import nibabel as nib\n",
        "import numpy as np\n",
        "\n",
        "'''\n",
        "Let's say we have got super-resolved scan in a numpy array: sr\n",
        "'''\n",
        "img = nib.Nifti1Image(sr, affine=np.eye(4))\n",
        "print(img.header.get_xyzt_units())\n",
        "print(nib.save(img, 'test_super_res.nii.gz'))"
      ],
      "execution_count": 28,
      "outputs": [
        {
          "output_type": "stream",
          "text": [
            "('unknown', 'unknown')\n",
            "None\n"
          ],
          "name": "stdout"
        }
      ]
    }
  ]
}