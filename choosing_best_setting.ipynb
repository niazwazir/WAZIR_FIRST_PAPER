{
 "cells": [
  {
   "cell_type": "code",
   "execution_count": 1,
   "metadata": {
    "colab": {},
    "colab_type": "code",
    "id": "KCb72eZK7IOb"
   },
   "outputs": [],
   "source": [
    "import matplotlib.pyplot as plt\n",
    "import pickle"
   ]
  },
  {
   "cell_type": "code",
   "execution_count": 3,
   "metadata": {},
   "outputs": [
    {
     "name": "stdout",
     "output_type": "stream",
     "text": [
      " Volume in drive C is OS\n",
      " Volume Serial Number is 46AE-33C3\n",
      "\n",
      " Directory of C:\\Users\\user\\Desktop\\ABC\\3d-fsrcnn-for-mri-images\n",
      "\n",
      "06/29/2021  12:16 AM    <DIR>          .\n",
      "06/29/2021  12:16 AM    <DIR>          ..\n",
      "06/29/2021  12:16 AM    <DIR>          .ipynb_checkpoints\n",
      "06/29/2021  12:11 AM           351,054 2DSRCNN.ipynb\n",
      "06/29/2021  12:11 AM           362,266 3DFSRCNN_56_16.ipynb\n",
      "06/29/2021  12:11 AM           431,978 3DSRCNN_32x32.ipynb\n",
      "06/29/2021  12:11 AM            83,189 choosing_best_setting.ipynb\n",
      "06/29/2021  12:11 AM           989,504 fsrcnn_56_16_relu_2.h5\n",
      "06/29/2021  12:11 AM            42,885 history_56_16_relu_2.p\n",
      "06/29/2021  12:11 AM             1,091 LICENSE\n",
      "06/29/2021  12:11 AM             1,472 nparray_to_nii.ipynb\n",
      "06/29/2021  12:11 AM             4,455 README.md\n",
      "06/29/2021  12:11 AM         1,976,825 test_low_res.nii.gz\n",
      "06/29/2021  12:16 AM            41,724 testing.ipynb\n",
      "              11 File(s)      4,286,443 bytes\n",
      "               3 Dir(s)  222,282,121,216 bytes free\n"
     ]
    }
   ],
   "source": [
    "ls"
   ]
  },
  {
   "cell_type": "code",
   "execution_count": 4,
   "metadata": {
    "colab": {},
    "colab_type": "code",
    "id": "pGQ6YOT2wL8M"
   },
   "outputs": [],
   "source": [
    "pkl_file = open('history_56_16_relu_2.p', 'rb')\n",
    "d = pickle.load(pkl_file)\n",
    "pkl_file.close()"
   ]
  },
  {
   "cell_type": "code",
   "execution_count": 5,
   "metadata": {
    "colab": {},
    "colab_type": "code",
    "id": "TZ1n3g1l-mek"
   },
   "outputs": [
    {
     "ename": "FileNotFoundError",
     "evalue": "[Errno 2] No such file or directory: 'history_56_16_relu.p'",
     "output_type": "error",
     "traceback": [
      "\u001b[1;31m---------------------------------------------------------------------------\u001b[0m",
      "\u001b[1;31mFileNotFoundError\u001b[0m                         Traceback (most recent call last)",
      "\u001b[1;32m<ipython-input-5-0a8336f9c93d>\u001b[0m in \u001b[0;36m<module>\u001b[1;34m\u001b[0m\n\u001b[1;32m----> 1\u001b[1;33m \u001b[0mpkl_file\u001b[0m \u001b[1;33m=\u001b[0m \u001b[0mopen\u001b[0m\u001b[1;33m(\u001b[0m\u001b[1;34m'history_56_16_relu.p'\u001b[0m\u001b[1;33m,\u001b[0m \u001b[1;34m'rb'\u001b[0m\u001b[1;33m)\u001b[0m\u001b[1;33m\u001b[0m\u001b[1;33m\u001b[0m\u001b[0m\n\u001b[0m\u001b[0;32m      2\u001b[0m \u001b[0md1\u001b[0m \u001b[1;33m=\u001b[0m \u001b[0mpickle\u001b[0m\u001b[1;33m.\u001b[0m\u001b[0mload\u001b[0m\u001b[1;33m(\u001b[0m\u001b[0mpkl_file\u001b[0m\u001b[1;33m)\u001b[0m\u001b[1;33m\u001b[0m\u001b[1;33m\u001b[0m\u001b[0m\n\u001b[0;32m      3\u001b[0m \u001b[0mpkl_file\u001b[0m\u001b[1;33m.\u001b[0m\u001b[0mclose\u001b[0m\u001b[1;33m(\u001b[0m\u001b[1;33m)\u001b[0m\u001b[1;33m\u001b[0m\u001b[1;33m\u001b[0m\u001b[0m\n",
      "\u001b[1;31mFileNotFoundError\u001b[0m: [Errno 2] No such file or directory: 'history_56_16_relu.p'"
     ]
    }
   ],
   "source": [
    "pkl_file = open('history_56_16_relu.p', 'rb')\n",
    "d1 = pickle.load(pkl_file)\n",
    "pkl_file.close()"
   ]
  },
  {
   "cell_type": "code",
   "execution_count": 0,
   "metadata": {
    "colab": {},
    "colab_type": "code",
    "id": "hxkqH7RA9HWl"
   },
   "outputs": [],
   "source": [
    "pkl_file = open('/content/drive/My Drive/history_default.p', 'rb')\n",
    "d2 = pickle.load(pkl_file)\n",
    "pkl_file.close()"
   ]
  },
  {
   "cell_type": "code",
   "execution_count": 0,
   "metadata": {
    "colab": {},
    "colab_type": "code",
    "id": "zbnLPuW19peE"
   },
   "outputs": [],
   "source": [
    "pkl_file = open('/content/drive/My Drive/history_48_12_lr4.p', 'rb')\n",
    "d3 = pickle.load(pkl_file)\n",
    "pkl_file.close()"
   ]
  },
  {
   "cell_type": "code",
   "execution_count": 0,
   "metadata": {
    "colab": {},
    "colab_type": "code",
    "id": "_WE9j8Is-BmE"
   },
   "outputs": [],
   "source": [
    "pkl_file = open('/content/drive/My Drive/history_56_16_lrelu.p', 'rb')\n",
    "d4 = pickle.load(pkl_file)\n",
    "pkl_file.close()"
   ]
  },
  {
   "cell_type": "code",
   "execution_count": 0,
   "metadata": {
    "colab": {},
    "colab_type": "code",
    "id": "DrbOVZZVBzv9"
   },
   "outputs": [],
   "source": [
    "for i in range(100):\n",
    "    if d['loss'][i] > 150:\n",
    "        d['loss'][i] = 150\n",
    "    # if d4['loss'][i] > 150:\n",
    "    #     d4['loss'][i] = 150"
   ]
  },
  {
   "cell_type": "code",
   "execution_count": 0,
   "metadata": {
    "colab": {
     "base_uri": "https://localhost:8080/",
     "height": 282
    },
    "colab_type": "code",
    "id": "ncBYyPtHAMGW",
    "outputId": "b9238d7b-e99b-4223-8b70-10efc825a0d7"
   },
   "outputs": [
    {
     "data": {
      "text/plain": [
       "[<matplotlib.lines.Line2D at 0x7faf55a08e80>]"
      ]
     },
     "execution_count": 17,
     "metadata": {
      "tags": []
     },
     "output_type": "execute_result"
    },
    {
     "data": {
      "image/png": "[encoded data removed]",
      "text/plain": [
       "<Figure size 432x288 with 1 Axes>"
      ]
     },
     "metadata": {
      "tags": []
     },
     "output_type": "display_data"
    }
   ],
   "source": [
    "plt.plot(d['loss'], 'k')\n",
    "plt.plot(d1['loss'], 'g')\n",
    "plt.plot(d2['loss'], 'y')\n",
    "plt.plot(d3['loss'], 'b')\n",
    "plt.plot(d4['loss'], 'r')"
   ]
  },
  {
   "cell_type": "code",
   "execution_count": 0,
   "metadata": {
    "colab": {
     "base_uri": "https://localhost:8080/",
     "height": 282
    },
    "colab_type": "code",
    "id": "6n6xt13tAopr",
    "outputId": "58be9f48-2f19-4feb-d245-a14f24b64797"
   },
   "outputs": [
    {
     "data": {
      "text/plain": [
       "[<matplotlib.lines.Line2D at 0x7faf5616f9e8>]"
      ]
     },
     "execution_count": 18,
     "metadata": {
      "tags": []
     },
     "output_type": "execute_result"
    },
    {
     "data": {
      "image/png": "[encoded data removed]",
      "text/plain": [
       "<Figure size 432x288 with 1 Axes>"
      ]
     },
     "metadata": {
      "tags": []
     },
     "output_type": "display_data"
    }
   ],
   "source": [
    "plt.plot(d['PSNR'], 'k')\n",
    "plt.plot(d1['PSNR'], 'g')\n",
    "plt.plot(d2['PSNR'], 'y')\n",
    "plt.plot(d3['PSNR'], 'b')\n",
    "plt.plot(d4['PSNR'], 'r') "
   ]
  },
  {
   "cell_type": "code",
   "execution_count": 0,
   "metadata": {
    "colab": {
     "base_uri": "https://localhost:8080/",
     "height": 282
    },
    "colab_type": "code",
    "id": "Wr-i1v9XArF7",
    "outputId": "425d4b0d-7082-4e5c-b269-c72b904f7a89"
   },
   "outputs": [
    {
     "data": {
      "text/plain": [
       "[<matplotlib.lines.Line2D at 0x7faf55b81dd8>]"
      ]
     },
     "execution_count": 13,
     "metadata": {
      "tags": []
     },
     "output_type": "execute_result"
    },
    {
     "data": {
      "image/png": "[encoded data removed]",
      "text/plain": [
       "<Figure size 432x288 with 1 Axes>"
      ]
     },
     "metadata": {
      "tags": []
     },
     "output_type": "display_data"
    }
   ],
   "source": [
    "plt.plot(d['acc'], 'k')\n",
    "plt.plot(d1['acc'], 'g')\n",
    "plt.plot(d2['acc'], 'y')\n",
    "plt.plot(d3['acc'], 'b')\n",
    "plt.plot(d4['acc'], 'r')"
   ]
  },
  {
   "cell_type": "code",
   "execution_count": 0,
   "metadata": {
    "colab": {
     "base_uri": "https://localhost:8080/",
     "height": 123
    },
    "colab_type": "code",
    "id": "Z5vgn_NfDykG",
    "outputId": "9326a385-8c3b-42f3-a277-45f5c3f4bdae"
   },
   "outputs": [
    {
     "name": "stdout",
     "output_type": "stream",
     "text": [
      "Average loss:\n",
      "d:  17.381565593150434\n",
      "d1:  19.530711152000436\n",
      "d2:  19.687351489367487\n",
      "d3:  23.3927351633501\n",
      "d4:  98.2780969968891\n"
     ]
    }
   ],
   "source": [
    "print(\"Average loss:\")\n",
    "print(\"d: \", sum(d['loss'])/750)\n",
    "print(\"d1: \", sum(d1['loss'])/100)\n",
    "print(\"d2: \", sum(d2['loss'])/100)\n",
    "print(\"d3: \", sum(d3['loss'])/100)\n",
    "print(\"d4: \", sum(d4['loss'])/100)"
   ]
  },
  {
   "cell_type": "code",
   "execution_count": 0,
   "metadata": {
    "colab": {
     "base_uri": "https://localhost:8080/",
     "height": 123
    },
    "colab_type": "code",
    "id": "Rh3h2z98EzKU",
    "outputId": "6e0078df-b26a-4a77-dc6c-19988b9c2c18"
   },
   "outputs": [
    {
     "name": "stdout",
     "output_type": "stream",
     "text": [
      "Average PSNR:\n",
      "d:  36.09203381543474\n",
      "d1:  35.71174626892091\n",
      "d2:  35.61665335803984\n",
      "d3:  34.936265079174035\n",
      "d4:  24.686061535417444\n"
     ]
    }
   ],
   "source": [
    "print(\"Average PSNR:\")\n",
    "print(\"d: \", sum(d['PSNR'])/750)\n",
    "print(\"d1: \", sum(d1['PSNR'])/100)\n",
    "print(\"d2: \", sum(d2['PSNR'])/100)\n",
    "print(\"d3: \", sum(d3['PSNR'])/100)\n",
    "print(\"d4: \", sum(d4['PSNR'])/100)"
   ]
  },
  {
   "cell_type": "code",
   "execution_count": 0,
   "metadata": {
    "colab": {
     "base_uri": "https://localhost:8080/",
     "height": 123
    },
    "colab_type": "code",
    "id": "9FD8CVQUE65b",
    "outputId": "3c9f279a-1799-4788-8d10-70909de60f98"
   },
   "outputs": [
    {
     "name": "stdout",
     "output_type": "stream",
     "text": [
      "Average acc:\n",
      "d:  0.2892630651036898\n",
      "d1:  0.27344899211660034\n",
      "d2:  0.27016561687000107\n",
      "d3:  0.2581409794905781\n",
      "d4:  0.14973040884824207\n"
     ]
    }
   ],
   "source": [
    "print(\"Average acc:\")\n",
    "print(\"d: \", sum(d['acc'])/750)\n",
    "print(\"d1: \", sum(d1['acc'])/100)\n",
    "print(\"d2: \", sum(d2['acc'])/100)\n",
    "print(\"d3: \", sum(d3['acc'])/100)\n",
    "print(\"d4: \", sum(d4['acc'])/100)"
   ]
  },
  {
   "cell_type": "code",
   "execution_count": 0,
   "metadata": {
    "colab": {
     "base_uri": "https://localhost:8080/",
     "height": 282
    },
    "colab_type": "code",
    "id": "QZQulIrZeGac",
    "outputId": "d1c3b53c-431e-4aa6-b050-34b88e596e5d"
   },
   "outputs": [
    {
     "data": {
      "image/png": "[encoded data removed]",
      "text/plain": [
       "<Figure size 432x288 with 1 Axes>"
      ]
     },
     "metadata": {
      "tags": []
     },
     "output_type": "display_data"
    }
   ],
   "source": [
    "plt.plot(d['PSNR'], 'k')\n",
    "plt.ylabel('PSNR')\n",
    "plt.xlabel('No. of epochs')\n",
    "plt.savefig('foo.pdf')"
   ]
  }
 ],
 "metadata": {
  "accelerator": "GPU",
  "colab": {
   "collapsed_sections": [],
   "name": "choosing_best_setting.ipynb",
   "provenance": []
  },
  "kernelspec": {
   "display_name": "gputest",
   "language": "python",
   "name": "gputest"
  },
  "language_info": {
   "codemirror_mode": {
    "name": "ipython",
    "version": 3
   },
   "file_extension": ".py",
   "mimetype": "text/x-python",
   "name": "python",
   "nbconvert_exporter": "python",
   "pygments_lexer": "ipython3",
   "version": "3.7.10"
  }
 },
 "nbformat": 4,
 "nbformat_minor": 1
}
